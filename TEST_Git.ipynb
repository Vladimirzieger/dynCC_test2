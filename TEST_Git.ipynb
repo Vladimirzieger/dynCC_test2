{
 "cells": [
  {
   "cell_type": "markdown",
   "id": "70c19d24-926b-47af-9384-77c8ebe9e063",
   "metadata": {},
   "source": [
    "this a test "
   ]
  },
  {
   "cell_type": "code",
   "execution_count": 1,
   "id": "6f740899-db7e-4576-83b7-6d733fec7336",
   "metadata": {},
   "outputs": [],
   "source": [
    "FX='gourmand'"
   ]
  },
  {
   "cell_type": "code",
   "execution_count": null,
   "id": "0bc03339-1787-41cb-ba54-fac0aafdd79c",
   "metadata": {},
   "outputs": [],
   "source": []
  }
 ],
 "metadata": {
  "kernelspec": {
   "display_name": "Python 3 (ipykernel)",
   "language": "python",
   "name": "python3"
  },
  "language_info": {
   "codemirror_mode": {
    "name": "ipython",
    "version": 3
   },
   "file_extension": ".py",
   "mimetype": "text/x-python",
   "name": "python",
   "nbconvert_exporter": "python",
   "pygments_lexer": "ipython3",
   "version": "3.11.10"
  }
 },
 "nbformat": 4,
 "nbformat_minor": 5
}
